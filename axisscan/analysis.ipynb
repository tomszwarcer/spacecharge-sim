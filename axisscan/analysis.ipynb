{
 "cells": [
  {
   "cell_type": "code",
   "execution_count": 1,
   "id": "49a4da1f",
   "metadata": {},
   "outputs": [],
   "source": [
    "import numpy as np\n",
    "import pandas as pd\n",
    "import matplotlib as mpl\n",
    "import matplotlib.pyplot as plt"
   ]
  },
  {
   "cell_type": "code",
   "execution_count": 2,
   "id": "afa9c81a",
   "metadata": {},
   "outputs": [
    {
     "name": "stdout",
     "output_type": "stream",
     "text": [
      "12637\n"
     ]
    }
   ],
   "source": [
    "efile = open(\"efile.txt\")\n",
    "pfile = open(\"pfile.txt\")\n",
    "\n",
    "el = [i[:-1].split(\",\") for i in efile.readlines()]\n",
    "pl = [i[:-1].split(\",\") for i in pfile.readlines()]\n",
    "counter = 0\n",
    "for i in pl:\n",
    "    if int(i[0]) == 39 and i[1] == 'i':\n",
    "        counter += 1\n",
    "print(counter)\n"
   ]
  },
  {
   "cell_type": "code",
   "execution_count": 3,
   "id": "12109b14",
   "metadata": {},
   "outputs": [],
   "source": [
    "\n",
    "\n",
    "# efile << iF << \",\" << y << \",\" << ex << \",\" << ey << \",\" << ez << \",\" << std::sqrt(ex*ex+ey*ey+ez*ez) << \"\\n\";\n",
    "n_frames = 40\n",
    "part = 3\n",
    "parts = [\"Frame\",\"y\",\"E field x\", \"E field y\", \"E field z\",\"E field magnitude\"]\n",
    "\n",
    "\n",
    "\n",
    "for frame in range(n_frames):\n",
    "    ey = np.array([float(i[part]) for i in el if int(i[0])==frame])\n",
    "    ex = [float(i[1]) for i in el if int(i[0])==frame]\n",
    "\n",
    "    if False:\n",
    "        q1 = np.percentile(ey, 25)\n",
    "        q3 = np.percentile(ey, 75)\n",
    "        iqr = q3 - q1\n",
    "        upper_whisker = q3 + 5 * iqr\n",
    "        non_outliers = ey <= upper_whisker\n",
    "        y_max = np.max(ey[non_outliers])\n",
    "\n",
    "    #pfile <<# \"e,\" << yf << \"\\n\";\n",
    "    pye = [float(i[2]) for i in pl if (str(i[1])==\"e\" and int(i[0])==frame)]\n",
    "    pyi = [float(i[2]) for i in pl if (str(i[1])==\"i\" and int(i[0])==frame)]\n",
    "\n",
    "    min_pye = min(30,len(pye))\n",
    "    if min_pye == 0:\n",
    "        pye = []\n",
    "    min_pyi = min(30,len(pyi))\n",
    "    if min_pyi == 0:\n",
    "        pyi = []\n",
    "    fig, ax = plt.subplots(3,figsize = (10,8),sharex=True)\n",
    "    #ax[0].scatter(ex,ey,s=1)\n",
    "    ax[0].plot(ex,ey,linestyle = \"-\")\n",
    "    ax[0].set_xlim(0,0.0128)\n",
    "    ax[0].set_title(parts[part]+\" (150 samples)\")\n",
    "    ax[0].set_ylabel(parts[part] + \" [V/cm]\")\n",
    "    n_electrons = len(pye)\n",
    "    if n_electrons != 1:\n",
    "        ax[1].hist(pye,bins = 30,edgecolor = \"k\",color = \"y\")\n",
    "    else:\n",
    "        ax[1].bar(pye[0],color='y',height = 1,width = 0.0001,edgecolor='k')\n",
    "        #ax[1].hist(pye,rwidth = 0.9, bins = [pye[0] - 0.pye[0],pye[0]+0.1], edgecolor = \"k\",color = \"y\")\n",
    "    \n",
    "    ax[1].set_xlim(0,0.0128)\n",
    "    #ax[1].set_ylim(0,200)\n",
    "    ax[1].set_title(\"Electron positions\")\n",
    "    ax[1].set_ylabel(\"Counts\")\n",
    "    ax[2].hist(pyi,bins = 50,edgecolor = \"k\",color = \"r\")\n",
    "    ax[2].set_xlim(0,0.0128)\n",
    "    #ax[2].set_ylim(0,1100)\n",
    "    ax[2].set_title(\"Ion positions\")\n",
    "    ax[2].set_xlabel(\"y [cm]\")\n",
    "    ax[2].set_ylabel(\"Counts\")\n",
    "    plt.savefig(\"/Users/tomszwarcer/Documents/CERN/spacecharge-sim/figures/axisscan/\"+str(frame)+ \".png\")\n",
    "    plt.close()"
   ]
  }
 ],
 "metadata": {
  "kernelspec": {
   "display_name": "base",
   "language": "python",
   "name": "python3"
  },
  "language_info": {
   "codemirror_mode": {
    "name": "ipython",
    "version": 3
   },
   "file_extension": ".py",
   "mimetype": "text/x-python",
   "name": "python",
   "nbconvert_exporter": "python",
   "pygments_lexer": "ipython3",
   "version": "3.12.2"
  }
 },
 "nbformat": 4,
 "nbformat_minor": 5
}
