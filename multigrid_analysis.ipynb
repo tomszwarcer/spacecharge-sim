{
 "cells": [
  {
   "cell_type": "code",
   "execution_count": 373,
   "id": "f871ab21",
   "metadata": {},
   "outputs": [],
   "source": [
    "import numpy as np\n",
    "import matplotlib.pyplot as plt\n",
    "import pandas as pd"
   ]
  },
  {
   "cell_type": "code",
   "execution_count": 383,
   "id": "86e0e1c4",
   "metadata": {},
   "outputs": [],
   "source": [
    "df = pd.read_csv(\"build/outfile.txt\",header=None)\n",
    "df.columns = [\"step\",\"spacing\",\"x\",\"y\",\"z\",\"ex\",\"ey\",\"ez\"]\n",
    "mag = np.square(df[\"ex\"]) + np.square(df[\"ey\"]) + np.square(df[\"ez\"])\n",
    "df.insert(len(df.columns),\"mag\",mag)"
   ]
  },
  {
   "cell_type": "code",
   "execution_count": null,
   "id": "fdb476fb",
   "metadata": {},
   "outputs": [],
   "source": [
    "grid = pd.read_csv(\"build/gridfile.txt\")\n",
    "possible_steps = grid[\"zsteps\"].to_list()\n",
    "print(possible_steps)\n",
    "\n",
    "df_1 = df[df[\"spacing\"]==possible_steps[0]]\n",
    "df_2 = df[df[\"spacing\"]==possible_steps[1]]\n",
    "df_3 = df[df[\"spacing\"]==possible_steps[2]]\n",
    "#df_4 = df[df[\"spacing\"]==possible_steps[3]]\n",
    "\n",
    "zmin = grid[\"zmin\"][0]\n",
    "zmax = grid[\"zmax\"][0]\n",
    "rmax = grid[\"rmax\"][0]\n",
    "rstepsize = [rmax/i for i in possible_steps]\n",
    "zstepsize = [(zmax-zmin)/i for i in possible_steps]\n",
    "r_gridpoints = []\n",
    "z_gridpoints = []\n",
    "for j in range(len(possible_steps)):\n",
    "    r_gridpoints.append([])\n",
    "    z_gridpoints.append([])\n",
    "    for i in range(possible_steps[j]):\n",
    "        r_gridpoints[j].append(i*rstepsize[j])\n",
    "        z_gridpoints[j].append(zmin + i*zstepsize[j])"
   ]
  },
  {
   "cell_type": "code",
   "execution_count": 385,
   "id": "38029d7c",
   "metadata": {},
   "outputs": [],
   "source": [
    "names = {\"mag\":\"magnitude\",\"ez\":\"z\",\"ex\":\"x\",\"ey\":\"y\"}"
   ]
  },
  {
   "cell_type": "code",
   "execution_count": null,
   "id": "5ff7d8c0",
   "metadata": {},
   "outputs": [],
   "source": [
    "step = 25\n",
    "field = \"mag\"\n",
    "plt.title(\"E field \" + names[field] + \", timestep \" + str(step))\n",
    "plt.xlabel(\"Scan axis [cm]\")\n",
    "plt.ylabel(\"Electric field [V/m]\")\n",
    "plt.scatter(df_1[df_1[\"step\"] == step][\"x\"],df_1[df_1[\"step\"] == step][field],label = str(possible_steps[0]) + \" grid steps\",s=1)\n",
    "plt.scatter(df_2[df_2[\"step\"] == step][\"x\"],df_2[df_2[\"step\"] == step][field],label = str(possible_steps[1])+ \" grid steps\",s=1)\n",
    "plt.scatter(df_3[df_3[\"step\"] == step][\"x\"],df_3[df_3[\"step\"] == step][field],label = str(possible_steps[2])+ \" grid steps\",s=1)\n",
    "#plt.scatter(df_4[df_4[\"step\"] == step][\"x\"],df_4[df_4[\"step\"] == step][field],label = str(possible_steps[3])+ \" grid steps\",s=1)\n",
    "#plt.vlines(0,1.6,2.4)\n",
    "#plt.vlines(r_gridpoints[1][:7],1.225,1.4,colors=[\"r\"])\n",
    "plt.legend()\n",
    "plt.savefig(\"figures/field_comparison25.png\")\n",
    "\n"
   ]
  }
 ],
 "metadata": {
  "kernelspec": {
   "display_name": "base",
   "language": "python",
   "name": "python3"
  },
  "language_info": {
   "codemirror_mode": {
    "name": "ipython",
    "version": 3
   },
   "file_extension": ".py",
   "mimetype": "text/x-python",
   "name": "python",
   "nbconvert_exporter": "python",
   "pygments_lexer": "ipython3",
   "version": "3.12.2"
  }
 },
 "nbformat": 4,
 "nbformat_minor": 5
}
